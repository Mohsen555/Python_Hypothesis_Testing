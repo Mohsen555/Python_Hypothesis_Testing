{
 "cells": [
  {
   "cell_type": "markdown",
   "id": "7eb9f5a9-cf36-46f9-9a98-5ea5a5983694",
   "metadata": {},
   "source": [
    "# __Hypothesis Testing with Men's and Women's Soccer Matches__"
   ]
  },
  {
   "cell_type": "markdown",
   "id": "650d75be-9ec2-417e-b579-18f6bdd803b1",
   "metadata": {},
   "source": [
    "<h2 style='text-align: left;'> Project Description </h2>\n",
    "<p style=\"font-size: 16px; text-align: left;\"> You've been watching both men's and women's international soccer matches for a number of years, and your gut instinct tells you that more goals are scored in women's international football matches than men's. </p>"
   ]
  },
  {
   "cell_type": "markdown",
   "id": "b85e0b61-46dd-4d99-a3de-10f0f5e8cf78",
   "metadata": {},
   "source": [
    "<center><img src='soccer.jpg' alt=\"Your Image\"></center>"
   ]
  },
  {
   "cell_type": "markdown",
   "id": "2c7afcb6-4a12-46d9-9b89-c6e564607e23",
   "metadata": {},
   "source": [
    "While scoping this project, you acknowledge that the sport has changed a lot over the years, and performances likely vary a lot depending on the tournament, so you decide to limit the data used in the analysis to only official `FIFA World Cup` matches (not including qualifiers) since `2002-01-01`.\n",
    "    \n",
    "You create two datasets containing the results of every official men's and women's international football match since the 19th century, which you scraped from a reliable online source. This data is stored in two CSV files: `women_results.csv` and `men_results.csv`.\n",
    "\n",
    "The question you are trying to determine the answer to is:\n",
    "\n",
    "> Are more goals scored in women's international soccer matches than men's?\n",
    "\n",
    "You assume a **10% significance level**, and use the following null and alternative hypotheses:\n",
    "\n",
    "$H_0$ : The mean number of goals scored in women's international soccer matches is the same as men's.\n",
    "\n",
    "$H_A$ : The mean number of goals scored in women's international soccer matches is greater than men's. </p>"
   ]
  },
  {
   "cell_type": "code",
   "execution_count": 1,
   "id": "86dcae27-2e84-4373-a596-5253cf5b4bac",
   "metadata": {},
   "outputs": [],
   "source": [
    "# Import required libraries\n",
    "\n",
    "import pandas as pd\n",
    "import numpy as np\n",
    "import matplotlib.pyplot as plt\n",
    "import seaborn as sns\n",
    "import pingouin as pg\n",
    "\n",
    "from scipy.stats import ttest_ind\n",
    "from scipy.stats import mannwhitneyu\n",
    "from scipy.stats import kstest, norm"
   ]
  },
  {
   "cell_type": "code",
   "execution_count": null,
   "id": "4f8a1c8c-f69a-4f5e-b629-45121441136a",
   "metadata": {},
   "outputs": [],
   "source": [
    "# Load the data from men_results.csv and women_results.csv\n",
    "\n",
    "men_results = pd.read_csv('men_results.csv', parse_dates=['date'])\n",
    "women_results = pd.read_csv('women_results.csv', parse_dates=['date'])"
   ]
  },
  {
   "cell_type": "code",
   "execution_count": null,
   "id": "d7deb9ca-a57e-4930-9abe-868846ec4850",
   "metadata": {},
   "outputs": [],
   "source": [
    "men_results.head()"
   ]
  },
  {
   "cell_type": "code",
   "execution_count": null,
   "id": "b2976b1b-112c-4b97-b876-432b80de71aa",
   "metadata": {},
   "outputs": [],
   "source": [
    "women_results.head()"
   ]
  },
  {
   "cell_type": "code",
   "execution_count": null,
   "id": "681666a2-86b5-4dc1-8814-d97be00c5f56",
   "metadata": {},
   "outputs": [],
   "source": [
    "men_results.drop(columns='Unnamed: 0', axis=1, inplace=True)\n",
    "women_results.drop(columns='Unnamed: 0', axis=1, inplace=True)"
   ]
  },
  {
   "cell_type": "code",
   "execution_count": null,
   "id": "d1cb74b3-33ec-47e3-b1ce-5ae177a0185a",
   "metadata": {},
   "outputs": [],
   "source": [
    "# Use .info() method to display a concise summary of the DataFrame, including data types, number of non-null values, and memory usage\n",
    "men_results.info()\n",
    "women_results.info()"
   ]
  },
  {
   "cell_type": "code",
   "execution_count": null,
   "id": "fbb9db26-8020-4ea7-81a3-dcaaf6333f25",
   "metadata": {},
   "outputs": [],
   "source": [
    "# Use the .value_counts() method on categorical column (tournament) to determine the counts of the unique values in this column\n",
    "men_results['tournament'].value_counts()"
   ]
  },
  {
   "cell_type": "code",
   "execution_count": null,
   "id": "a9f09fcc-9a27-41e7-8aa2-585a828ce6b5",
   "metadata": {},
   "outputs": [],
   "source": [
    "women_results['tournament'].value_counts()"
   ]
  },
  {
   "cell_type": "code",
   "execution_count": null,
   "id": "55ebeebe-f981-4eb1-9cad-507f281bbc4c",
   "metadata": {},
   "outputs": [],
   "source": [
    "# Filtering for FIFA World Cup matches after 2002-01-01\n",
    "# Convert the date column to the datetime data type by passing it to pd.to_datetime(), \n",
    "# or by using the parse_dates argument of pd.read_csv() when loading the data.\n",
    "\n",
    "men_world_cup = men_results[(men_results['tournament']=='FIFA World Cup') & (men_results['date']>'2002-01-01')]\n",
    "men_world_cup.loc[:, 'total_score']=men_world_cup['home_score']+ men_world_cup['away_score']\n",
    "men_world_cup"
   ]
  },
  {
   "cell_type": "code",
   "execution_count": null,
   "id": "abf40200-6087-484b-894f-7965659f8d31",
   "metadata": {},
   "outputs": [],
   "source": [
    "women_world_cup = women_results[(women_results['tournament']=='FIFA World Cup') & (women_results['date']>'2002-01-01')]\n",
    "women_world_cup.loc[:, 'total_score']=women_world_cup['home_score']+ women_world_cup['away_score']\n",
    "women_world_cup"
   ]
  },
  {
   "cell_type": "code",
   "execution_count": null,
   "id": "566806e8-e570-45fb-b604-cdc797de282f",
   "metadata": {},
   "outputs": [],
   "source": [
    "# Choosing the correct hypothesis test\n",
    "print(men_world_cup['total_score'].mean())\n",
    "print(women_world_cup['total_score'].mean())"
   ]
  },
  {
   "cell_type": "markdown",
   "id": "bd7269bb-ef50-4b1a-9ece-6ef27eceeef6",
   "metadata": {},
   "source": [
    "Because there are two independent groups, men's and women's, this scenario requires an unpaired two-sample test.\n",
    "An unpaired t-test and a Wilcoxon-Mann-Whitney test are the two most commmon two-sample tests, where the Wilcoxon-Mann-Whitney test is a non-parametric version of the unpaired t-test.\n",
    "To determine if a parametric or non-parametric test is appropriate, you'll need to verify the underlying assumptions of parametric tests, including checking the sample size in each group and the normality of each distribution."
   ]
  },
  {
   "cell_type": "code",
   "execution_count": null,
   "id": "ba25b1ed-9434-4541-8bca-b62b295138ff",
   "metadata": {},
   "outputs": [],
   "source": [
    "# For t-tests and ANOVA: A minimum of 30 samples per group is often considered sufficient.\n",
    "\n",
    "sample_size_data1 = len(women_world_cup)\n",
    "sample_size_data2 = len(men_world_cup)\n",
    "\n",
    "print(f\"Sample size of data1: {sample_size_data1}\")\n",
    "print(f\"Sample size of data2: {sample_size_data2}\")"
   ]
  },
  {
   "cell_type": "code",
   "execution_count": null,
   "id": "6fd3f21f-1710-43de-9f54-d2962618550b",
   "metadata": {},
   "outputs": [],
   "source": [
    "# For normality, you can use visual inspection with a histogram\n",
    "\n",
    "sns.histplot(x='total_score', data=women_world_cup, bins=10, color='skyblue', label='Women')\n",
    "sns.histplot(x='total_score', data=men_world_cup, bins=10, color='salmon', label='Men')\n",
    "\n",
    "plt.title('Comparison of Total Score Distribution')\n",
    "plt.xlabel('Total Score')\n",
    "plt.ylabel('Frequency')\n",
    "plt.legend()  # Display legend with labels\n",
    "\n",
    "plt.show()"
   ]
  },
  {
   "cell_type": "markdown",
   "id": "6750828d-0741-4326-80ee-1d9cbe712243",
   "metadata": {},
   "source": [
    "The normal distribution is a symmetric bell-shaped curve, with the distribution centered around the mean.\n",
    "Plotting a histogram displaying the distribution of the number of goals scored in men's and women's matches will give you an idea about whether the dataset is normally distributed or not.\n",
    "If the normality is unclear from the plot, you can run a test of normality, such as a Kolmogorov–Smirnov test or the Shapiro–Wilk test."
   ]
  },
  {
   "cell_type": "code",
   "execution_count": null,
   "id": "a1214c48-0806-47a1-93e5-8872fc76b081",
   "metadata": {},
   "outputs": [],
   "source": [
    "from scipy.stats import kstest, norm\n",
    "import numpy as np\n",
    "\n",
    "# Perform Kolmogorov-Smirnov test against a normal distribution\n",
    "ks_statistic_women, ks_p_value_women = kstest(women_world_cup['total_score'], 'norm')\n",
    "ks_statistic_men, ks_p_value_men = kstest(men_world_cup['total_score'], 'norm')\n",
    "\n",
    "# Define significance level (e.g., 0.05)\n",
    "alpha = 0.05\n",
    "\n",
    "# Print the results for women\n",
    "print(f\"KS Statistic_women: {ks_statistic_women}\")\n",
    "print(f\"P-value_women: {ks_p_value_women}\")\n",
    "\n",
    "# Interpret the results for women\n",
    "if ks_p_value_women < alpha:\n",
    "    print(\"The sample may not be from a normal distribution.\")\n",
    "else:\n",
    "    print(\"The sample appears to be from a normal distribution.\")\n",
    "\n",
    "print(\"-----------------------------------------------------------\")\n",
    "\n",
    "# Print the results for men\n",
    "print(f\"KS Statistic_men: {ks_statistic_men}\")\n",
    "print(f\"P-value_men: {ks_p_value_men}\")\n",
    "\n",
    "# Interpret the results for women\n",
    "if ks_p_value_women < alpha:\n",
    "    print(\"The sample may not be from a normal distribution.\")\n",
    "else:\n",
    "    print(\"The sample appears to be from a normal distribution.\")"
   ]
  },
  {
   "cell_type": "code",
   "execution_count": null,
   "id": "55fd3bec-38d8-406f-b474-0f938991465a",
   "metadata": {},
   "outputs": [],
   "source": [
    "# We can't use this test, because our dataset is not normally distributed based on Kolmogorov–Smirnov test but  we use it just ...\n",
    "# to display how ttest works in similar situation\n",
    "\n",
    "from scipy.stats import ttest_ind\n",
    "\n",
    "t_stat, p_value = ttest_ind(women_world_cup['total_score'], men_world_cup['total_score'], equal_var=False, alternative='greater')\n",
    "print(f\"t_test: {t_stat}\", \" - \", f\"p_value: {p_value}\")"
   ]
  },
  {
   "cell_type": "code",
   "execution_count": null,
   "id": "bfa97107-67e7-44e4-acbd-a6e1e3862032",
   "metadata": {},
   "outputs": [],
   "source": [
    "# Performing the hypothesis test using scipy package\n",
    "\n",
    "from scipy.stats import mannwhitneyu\n",
    "\n",
    "# Perform Mann-Whitney U test\n",
    "statistic, p_value = mannwhitneyu(women_world_cup['total_score'], men_world_cup['total_score'], alternative='greater')  # Set alternative to 'greater'\n",
    "\n",
    "# Define significance level (alpha)\n",
    "alpha = 0.10  # 10 percent\n",
    "\n",
    "# Print the results\n",
    "print(f\"Mann-Whitney U Statistic: {statistic}\")\n",
    "print(f\"P-value: {p_value}\")\n",
    "\n",
    "# Interpret the results\n",
    "if p_value < alpha:\n",
    "    print(\"Reject the null hypothesis. There is evidence that women total goals is greater than men total goals scored.\")\n",
    "else:\n",
    "    print(\"Fail to reject the null hypothesis. There is no evidence that women total goals is greater than men total goals scored\")\n"
   ]
  },
  {
   "cell_type": "code",
   "execution_count": null,
   "id": "dfa2c07a-ab92-4664-bbdb-116dd7779ef3",
   "metadata": {},
   "outputs": [],
   "source": [
    "# Performing the hypothesis test using pingouin package\n",
    "\n",
    "import pingouin as pg\n",
    "\n",
    "# Perform Mann-Whitney U test\n",
    "result_pg = pg.mwu(women_world_cup['total_score'], men_world_cup['total_score'], alternative='greater')  # Set tail to 'greater' for a right-tailed test\n",
    "\n",
    "# Print the results\n",
    "print(result_pg)"
   ]
  },
  {
   "cell_type": "code",
   "execution_count": null,
   "id": "9f69e353-1eb4-4cb6-8de6-0e721fad57cf",
   "metadata": {},
   "outputs": [],
   "source": [
    "# Interpreting the result of the hypothesis test (from pingouin package)\n",
    "\n",
    "# Extract p-value as a float\n",
    "p_val = result_pg[\"p-val\"].values[0]\n",
    "\n",
    "# Determine hypothesis test result using sig. level\n",
    "if p_val <= 0.01:\n",
    "    result = \"reject\"\n",
    "else:\n",
    "    result = \"fail to reject\"\n",
    "\n",
    "result_dict = {\"p_val\": p_val, \"result\": result}\n",
    "\n",
    "print(result_dict)"
   ]
  },
  {
   "cell_type": "markdown",
   "id": "25720b71-4e9a-46bc-965f-c0330c782549",
   "metadata": {},
   "source": [
    "# ALternative Solution"
   ]
  },
  {
   "cell_type": "code",
   "execution_count": 7,
   "id": "3e542a1c-9cba-47d0-a5d4-1a911d531f56",
   "metadata": {},
   "outputs": [
    {
     "data": {
      "image/png": "[encoded data removed]",
      "text/plain": [
       "<Figure size 640x480 with 1 Axes>"
      ]
     },
     "metadata": {},
     "output_type": "display_data"
    },
    {
     "data": {
      "image/png": "[encoded data removed]",
      "text/plain": [
       "<Figure size 640x480 with 1 Axes>"
      ]
     },
     "metadata": {},
     "output_type": "display_data"
    },
    {
     "name": "stdout",
     "output_type": "stream",
     "text": [
      "{'p_val': 0.005106609825443641, 'result': 'reject'}\n"
     ]
    },
    {
     "data": {
      "text/plain": [
       "<Figure size 640x480 with 0 Axes>"
      ]
     },
     "metadata": {},
     "output_type": "display_data"
    }
   ],
   "source": [
    "# Imports\n",
    "import pandas as pd\n",
    "import matplotlib.pyplot as plt\n",
    "import pingouin\n",
    "from scipy.stats import mannwhitneyu\n",
    "\n",
    "# Load men's and women's datasets\n",
    "men = pd.read_csv(\"men_results.csv\")\n",
    "women = pd.read_csv(\"women_results.csv\")\n",
    "\n",
    "# Filter the data for the time range and tournament\n",
    "men[\"date\"] = pd.to_datetime(men[\"date\"])\n",
    "men_subset = men[(men[\"date\"] > \"2002-01-01\") & (men[\"tournament\"].isin([\"FIFA World Cup\"]))]\n",
    "women[\"date\"] = pd.to_datetime(women[\"date\"])\n",
    "women_subset = women[(women[\"date\"] > \"2002-01-01\") & (women[\"tournament\"].isin([\"FIFA World Cup\"]))]\n",
    "\n",
    "# Create group and goals_scored columns\n",
    "men_subset = men_subset.copy()\n",
    "women_subset = women_subset.copy()\n",
    "\n",
    "men_subset[\"group\"] = \"men\"\n",
    "women_subset[\"group\"] = \"women\"\n",
    "men_subset[\"goals_scored\"] = men_subset[\"home_score\"] + men_subset[\"away_score\"]\n",
    "women_subset[\"goals_scored\"] = women_subset[\"home_score\"] + women_subset[\"away_score\"]\n",
    "\n",
    "# Determine normality using histograms\n",
    "men_subset[\"goals_scored\"].hist()\n",
    "plt.show()\n",
    "plt.clf()\n",
    "\n",
    "# Goals scored is not normally distributed, so use Wilcoxon-Mann-Whitney test of two groups\n",
    "men_subset[\"goals_scored\"].hist()\n",
    "plt.show()\n",
    "plt.clf()\n",
    "\n",
    "# Combine women's and men's data and calculate goals scored in each match\n",
    "both = pd.concat([women_subset, men_subset], axis=0, ignore_index=True)\n",
    "\n",
    "# Transform the data for the pingouin Mann-Whitney U t-test/Wilcoxon-Mann-Whitney test\n",
    "both_subset = both[[\"goals_scored\", \"group\"]]\n",
    "both_subset_wide = both_subset.pivot(columns=\"group\", values=\"goals_scored\")\n",
    "\n",
    "# Perform right-tailed Wilcoxon-Mann-Whitney test with pingouin\n",
    "results_pg = pingouin.mwu(x=both_subset_wide[\"women\"],\n",
    "                          y=both_subset_wide[\"men\"],\n",
    "                          alternative=\"greater\")\n",
    "\n",
    "# Alternative SciPy solution: Perform right-tailed Wilcoxon-Mann-Whitney test with scipy\n",
    "results_scipy = mannwhitneyu(x=women_subset[\"goals_scored\"],\n",
    "                             y=men_subset[\"goals_scored\"],\n",
    "                             alternative=\"greater\")\n",
    "\n",
    "# Extract p-value as a float\n",
    "p_val = results_pg[\"p-val\"].values[0]\n",
    "\n",
    "# Determine hypothesis test result using sig. level\n",
    "if p_val <= 0.01:\n",
    "    result = \"reject\"\n",
    "else:\n",
    "    result = \"fail to reject\"\n",
    "\n",
    "result_dict = {\"p_val\": p_val, \"result\": result}\n",
    "print(result_dict)"
   ]
  },
  {
   "cell_type": "code",
   "execution_count": null,
   "id": "8cba3136-1140-40f1-bb68-8f1b4e6b9185",
   "metadata": {},
   "outputs": [],
   "source": []
  }
 ],
 "metadata": {
  "kernelspec": {
   "display_name": "Python 3 (ipykernel)",
   "language": "python",
   "name": "python3"
  },
  "language_info": {
   "codemirror_mode": {
    "name": "ipython",
    "version": 3
   },
   "file_extension": ".py",
   "mimetype": "text/x-python",
   "name": "python",
   "nbconvert_exporter": "python",
   "pygments_lexer": "ipython3",
   "version": "3.10.10"
  }
 },
 "nbformat": 4,
 "nbformat_minor": 5
}
