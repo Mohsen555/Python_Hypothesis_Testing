{
 "cells": [
  {
   "cell_type": "markdown",
   "id": "7eb9f5a9-cf36-46f9-9a98-5ea5a5983694",
   "metadata": {},
   "source": [
    "# __Hypothesis Testing with Men's and Women's Soccer Matches__"
   ]
  },
  {
   "cell_type": "markdown",
   "id": "650d75be-9ec2-417e-b579-18f6bdd803b1",
   "metadata": {},
   "source": [
    "<h2 style='text-align: left;'> Project Description </h2>\n",
    "<p style=\"font-size: 16px; text-align: left;\"> You've been watching both men's and women's international soccer matches for a number of years, and your gut instinct tells you that more goals are scored in women's international football matches than men's. </p>"
   ]
  },
  {
   "cell_type": "markdown",
   "id": "b85e0b61-46dd-4d99-a3de-10f0f5e8cf78",
   "metadata": {},
   "source": [
    "<center><img src='soccer.jpg' alt=\"Your Image\"></center>"
   ]
  },
  {
   "cell_type": "markdown",
   "id": "2c7afcb6-4a12-46d9-9b89-c6e564607e23",
   "metadata": {},
   "source": [
    "While scoping this project, you acknowledge that the sport has changed a lot over the years, and performances likely vary a lot depending on the tournament, so you decide to limit the data used in the analysis to only official `FIFA World Cup` matches (not including qualifiers) since `2002-01-01`.\n",
    "    \n",
    "You create two datasets containing the results of every official men's and women's international football match since the 19th century, which you scraped from a reliable online source. This data is stored in two CSV files: `women_results.csv` and `men_results.csv`.\n",
    "\n",
    "The question you are trying to determine the answer to is:\n",
    "\n",
    "> Are more goals scored in women's international soccer matches than men's?\n",
    "\n",
    "You assume a **10% significance level**, and use the following null and alternative hypotheses:\n",
    "\n",
    "$H_0$ : The mean number of goals scored in women's international soccer matches is the same as men's.\n",
    "\n",
    "$H_A$ : The mean number of goals scored in women's international soccer matches is greater than men's. </p>"
   ]
  },
  {
   "cell_type": "code",
   "execution_count": 1,
   "id": "86dcae27-2e84-4373-a596-5253cf5b4bac",
   "metadata": {},
   "outputs": [],
   "source": [
    "# Import required libraries\n",
    "\n",
    "import pandas as pd\n",
    "import numpy as np\n",
    "import matplotlib.pyplot as plt\n",
    "import seaborn as sns\n",
    "import pingouin as pg\n",
    "\n",
    "from scipy.stats import ttest_ind\n",
    "from scipy.stats import mannwhitneyu\n",
    "from scipy.stats import kstest, norm"
   ]
  },
  {
   "cell_type": "code",
   "execution_count": 2,
   "id": "4f8a1c8c-f69a-4f5e-b629-45121441136a",
   "metadata": {},
   "outputs": [],
   "source": [
    "# Load the data from men_results.csv and women_results.csv\n",
    "\n",
    "men_results = pd.read_csv('men_results.csv', parse_dates=['date'])\n",
    "women_results = pd.read_csv('women_results.csv', parse_dates=['date'])"
   ]
  },
  {
   "cell_type": "code",
   "execution_count": 3,
   "id": "d7deb9ca-a57e-4930-9abe-868846ec4850",
   "metadata": {},
   "outputs": [
    {
     "data": {
      "text/html": [
       "<div>\n",
       "<style scoped>\n",
       "    .dataframe tbody tr th:only-of-type {\n",
       "        vertical-align: middle;\n",
       "    }\n",
       "\n",
       "    .dataframe tbody tr th {\n",
       "        vertical-align: top;\n",
       "    }\n",
       "\n",
       "    .dataframe thead th {\n",
       "        text-align: right;\n",
       "    }\n",
       "</style>\n",
       "<table border=\"1\" class=\"dataframe\">\n",
       "  <thead>\n",
       "    <tr style=\"text-align: right;\">\n",
       "      <th></th>\n",
       "      <th>Unnamed: 0</th>\n",
       "      <th>date</th>\n",
       "      <th>home_team</th>\n",
       "      <th>away_team</th>\n",
       "      <th>home_score</th>\n",
       "      <th>away_score</th>\n",
       "      <th>tournament</th>\n",
       "    </tr>\n",
       "  </thead>\n",
       "  <tbody>\n",
       "    <tr>\n",
       "      <th>0</th>\n",
       "      <td>0</td>\n",
       "      <td>1872-11-30</td>\n",
       "      <td>Scotland</td>\n",
       "      <td>England</td>\n",
       "      <td>0</td>\n",
       "      <td>0</td>\n",
       "      <td>Friendly</td>\n",
       "    </tr>\n",
       "    <tr>\n",
       "      <th>1</th>\n",
       "      <td>1</td>\n",
       "      <td>1873-03-08</td>\n",
       "      <td>England</td>\n",
       "      <td>Scotland</td>\n",
       "      <td>4</td>\n",
       "      <td>2</td>\n",
       "      <td>Friendly</td>\n",
       "    </tr>\n",
       "    <tr>\n",
       "      <th>2</th>\n",
       "      <td>2</td>\n",
       "      <td>1874-03-07</td>\n",
       "      <td>Scotland</td>\n",
       "      <td>England</td>\n",
       "      <td>2</td>\n",
       "      <td>1</td>\n",
       "      <td>Friendly</td>\n",
       "    </tr>\n",
       "    <tr>\n",
       "      <th>3</th>\n",
       "      <td>3</td>\n",
       "      <td>1875-03-06</td>\n",
       "      <td>England</td>\n",
       "      <td>Scotland</td>\n",
       "      <td>2</td>\n",
       "      <td>2</td>\n",
       "      <td>Friendly</td>\n",
       "    </tr>\n",
       "    <tr>\n",
       "      <th>4</th>\n",
       "      <td>4</td>\n",
       "      <td>1876-03-04</td>\n",
       "      <td>Scotland</td>\n",
       "      <td>England</td>\n",
       "      <td>3</td>\n",
       "      <td>0</td>\n",
       "      <td>Friendly</td>\n",
       "    </tr>\n",
       "  </tbody>\n",
       "</table>\n",
       "</div>"
      ],
      "text/plain": [
       "   Unnamed: 0       date home_team away_team  home_score  away_score  \\\n",
       "0           0 1872-11-30  Scotland   England           0           0   \n",
       "1           1 1873-03-08   England  Scotland           4           2   \n",
       "2           2 1874-03-07  Scotland   England           2           1   \n",
       "3           3 1875-03-06   England  Scotland           2           2   \n",
       "4           4 1876-03-04  Scotland   England           3           0   \n",
       "\n",
       "  tournament  \n",
       "0   Friendly  \n",
       "1   Friendly  \n",
       "2   Friendly  \n",
       "3   Friendly  \n",
       "4   Friendly  "
      ]
     },
     "execution_count": 3,
     "metadata": {},
     "output_type": "execute_result"
    }
   ],
   "source": [
    "men_results.head()"
   ]
  },
  {
   "cell_type": "code",
   "execution_count": 4,
   "id": "b2976b1b-112c-4b97-b876-432b80de71aa",
   "metadata": {},
   "outputs": [
    {
     "data": {
      "text/html": [
       "<div>\n",
       "<style scoped>\n",
       "    .dataframe tbody tr th:only-of-type {\n",
       "        vertical-align: middle;\n",
       "    }\n",
       "\n",
       "    .dataframe tbody tr th {\n",
       "        vertical-align: top;\n",
       "    }\n",
       "\n",
       "    .dataframe thead th {\n",
       "        text-align: right;\n",
       "    }\n",
       "</style>\n",
       "<table border=\"1\" class=\"dataframe\">\n",
       "  <thead>\n",
       "    <tr style=\"text-align: right;\">\n",
       "      <th></th>\n",
       "      <th>Unnamed: 0</th>\n",
       "      <th>date</th>\n",
       "      <th>home_team</th>\n",
       "      <th>away_team</th>\n",
       "      <th>home_score</th>\n",
       "      <th>away_score</th>\n",
       "      <th>tournament</th>\n",
       "    </tr>\n",
       "  </thead>\n",
       "  <tbody>\n",
       "    <tr>\n",
       "      <th>0</th>\n",
       "      <td>0</td>\n",
       "      <td>1969-11-01</td>\n",
       "      <td>Italy</td>\n",
       "      <td>France</td>\n",
       "      <td>1</td>\n",
       "      <td>0</td>\n",
       "      <td>Euro</td>\n",
       "    </tr>\n",
       "    <tr>\n",
       "      <th>1</th>\n",
       "      <td>1</td>\n",
       "      <td>1969-11-01</td>\n",
       "      <td>Denmark</td>\n",
       "      <td>England</td>\n",
       "      <td>4</td>\n",
       "      <td>3</td>\n",
       "      <td>Euro</td>\n",
       "    </tr>\n",
       "    <tr>\n",
       "      <th>2</th>\n",
       "      <td>2</td>\n",
       "      <td>1969-11-02</td>\n",
       "      <td>England</td>\n",
       "      <td>France</td>\n",
       "      <td>2</td>\n",
       "      <td>0</td>\n",
       "      <td>Euro</td>\n",
       "    </tr>\n",
       "    <tr>\n",
       "      <th>3</th>\n",
       "      <td>3</td>\n",
       "      <td>1969-11-02</td>\n",
       "      <td>Italy</td>\n",
       "      <td>Denmark</td>\n",
       "      <td>3</td>\n",
       "      <td>1</td>\n",
       "      <td>Euro</td>\n",
       "    </tr>\n",
       "    <tr>\n",
       "      <th>4</th>\n",
       "      <td>4</td>\n",
       "      <td>1975-08-25</td>\n",
       "      <td>Thailand</td>\n",
       "      <td>Australia</td>\n",
       "      <td>3</td>\n",
       "      <td>2</td>\n",
       "      <td>AFC Championship</td>\n",
       "    </tr>\n",
       "  </tbody>\n",
       "</table>\n",
       "</div>"
      ],
      "text/plain": [
       "   Unnamed: 0       date home_team  away_team  home_score  away_score  \\\n",
       "0           0 1969-11-01     Italy     France           1           0   \n",
       "1           1 1969-11-01   Denmark    England           4           3   \n",
       "2           2 1969-11-02   England     France           2           0   \n",
       "3           3 1969-11-02     Italy    Denmark           3           1   \n",
       "4           4 1975-08-25  Thailand  Australia           3           2   \n",
       "\n",
       "         tournament  \n",
       "0              Euro  \n",
       "1              Euro  \n",
       "2              Euro  \n",
       "3              Euro  \n",
       "4  AFC Championship  "
      ]
     },
     "execution_count": 4,
     "metadata": {},
     "output_type": "execute_result"
    }
   ],
   "source": [
    "women_results.head()"
   ]
  },
  {
   "cell_type": "code",
   "execution_count": 5,
   "id": "681666a2-86b5-4dc1-8814-d97be00c5f56",
   "metadata": {},
   "outputs": [],
   "source": [
    "men_results.drop(columns='Unnamed: 0', axis=1, inplace=True)\n",
    "women_results.drop(columns='Unnamed: 0', axis=1, inplace=True)"
   ]
  },
  {
   "cell_type": "code",
   "execution_count": 6,
   "id": "d1cb74b3-33ec-47e3-b1ce-5ae177a0185a",
   "metadata": {},
   "outputs": [
    {
     "name": "stdout",
     "output_type": "stream",
     "text": [
      "<class 'pandas.core.frame.DataFrame'>\n",
      "RangeIndex: 44353 entries, 0 to 44352\n",
      "Data columns (total 6 columns):\n",
      " #   Column      Non-Null Count  Dtype         \n",
      "---  ------      --------------  -----         \n",
      " 0   date        44353 non-null  datetime64[ns]\n",
      " 1   home_team   44353 non-null  object        \n",
      " 2   away_team   44353 non-null  object        \n",
      " 3   home_score  44353 non-null  int64         \n",
      " 4   away_score  44353 non-null  int64         \n",
      " 5   tournament  44353 non-null  object        \n",
      "dtypes: datetime64[ns](1), int64(2), object(3)\n",
      "memory usage: 2.0+ MB\n",
      "<class 'pandas.core.frame.DataFrame'>\n",
      "RangeIndex: 4884 entries, 0 to 4883\n",
      "Data columns (total 6 columns):\n",
      " #   Column      Non-Null Count  Dtype         \n",
      "---  ------      --------------  -----         \n",
      " 0   date        4884 non-null   datetime64[ns]\n",
      " 1   home_team   4884 non-null   object        \n",
      " 2   away_team   4884 non-null   object        \n",
      " 3   home_score  4884 non-null   int64         \n",
      " 4   away_score  4884 non-null   int64         \n",
      " 5   tournament  4884 non-null   object        \n",
      "dtypes: datetime64[ns](1), int64(2), object(3)\n",
      "memory usage: 229.1+ KB\n"
     ]
    }
   ],
   "source": [
    "# Use .info() method to display a concise summary of the DataFrame, including data types, number of non-null values, and memory usage\n",
    "men_results.info()\n",
    "women_results.info()"
   ]
  },
  {
   "cell_type": "code",
   "execution_count": 7,
   "id": "fbb9db26-8020-4ea7-81a3-dcaaf6333f25",
   "metadata": {},
   "outputs": [
    {
     "data": {
      "text/plain": [
       "tournament\n",
       "Friendly                                17519\n",
       "FIFA World Cup qualification             7878\n",
       "UEFA Euro qualification                  2585\n",
       "African Cup of Nations qualification     1932\n",
       "FIFA World Cup                            964\n",
       "                                        ...  \n",
       "Real Madrid 75th Anniversary Cup            1\n",
       "Évence Coppée Trophy                        1\n",
       "Copa Confraternidad                         1\n",
       "TIFOCO Tournament                           1\n",
       "FIFA 75th Anniversary Cup                   1\n",
       "Name: count, Length: 141, dtype: int64"
      ]
     },
     "execution_count": 7,
     "metadata": {},
     "output_type": "execute_result"
    }
   ],
   "source": [
    "# Use the .value_counts() method on categorical column (tournament) to determine the counts of the unique values in this column\n",
    "men_results['tournament'].value_counts()"
   ]
  },
  {
   "cell_type": "code",
   "execution_count": 8,
   "id": "a9f09fcc-9a27-41e7-8aa2-585a828ce6b5",
   "metadata": {},
   "outputs": [
    {
     "data": {
      "text/plain": [
       "tournament\n",
       "UEFA Euro qualification                 1445\n",
       "Algarve Cup                              551\n",
       "FIFA World Cup                           284\n",
       "AFC Championship                         268\n",
       "Cyprus Cup                               258\n",
       "African Championship qualification       226\n",
       "UEFA Euro                                184\n",
       "African Championship                     173\n",
       "FIFA World Cup qualification             172\n",
       "CONCACAF Gold Cup qualification          143\n",
       "AFC Asian Cup qualification              141\n",
       "Copa América                             131\n",
       "Olympic Games                            130\n",
       "CONCACAF Gold Cup                        126\n",
       "Friendly                                 111\n",
       "AFC Asian Cup                            111\n",
       "Four Nations Tournament                  106\n",
       "OFC Championship                          78\n",
       "African Cup of Nations qualification      58\n",
       "CONCACAF Championship                     42\n",
       "SheBelieves Cup                           39\n",
       "Euro                                      20\n",
       "African Cup of Nations                    16\n",
       "OFC Nations Cup                           16\n",
       "Olympic Games qualification               15\n",
       "Tournament of Nations                     12\n",
       "Tournoi de France                         12\n",
       "CONCACAF Invitational Tournament           6\n",
       "OFC Nations Cup qualification              6\n",
       "Basque Country Women's Cup                 4\n",
       "Name: count, dtype: int64"
      ]
     },
     "execution_count": 8,
     "metadata": {},
     "output_type": "execute_result"
    }
   ],
   "source": [
    "women_results['tournament'].value_counts()"
   ]
  },
  {
   "cell_type": "code",
   "execution_count": 9,
   "id": "55ebeebe-f981-4eb1-9cad-507f281bbc4c",
   "metadata": {},
   "outputs": [
    {
     "name": "stderr",
     "output_type": "stream",
     "text": [
      "C:\\Users\\mohse\\AppData\\Local\\Temp\\ipykernel_18616\\3074618198.py:6: SettingWithCopyWarning: \n",
      "A value is trying to be set on a copy of a slice from a DataFrame.\n",
      "Try using .loc[row_indexer,col_indexer] = value instead\n",
      "\n",
      "See the caveats in the documentation: https://pandas.pydata.org/pandas-docs/stable/user_guide/indexing.html#returning-a-view-versus-a-copy\n",
      "  men_world_cup.loc[:, 'total_score']=men_world_cup['home_score']+ men_world_cup['away_score']\n"
     ]
    },
    {
     "data": {
      "text/html": [
       "<div>\n",
       "<style scoped>\n",
       "    .dataframe tbody tr th:only-of-type {\n",
       "        vertical-align: middle;\n",
       "    }\n",
       "\n",
       "    .dataframe tbody tr th {\n",
       "        vertical-align: top;\n",
       "    }\n",
       "\n",
       "    .dataframe thead th {\n",
       "        text-align: right;\n",
       "    }\n",
       "</style>\n",
       "<table border=\"1\" class=\"dataframe\">\n",
       "  <thead>\n",
       "    <tr style=\"text-align: right;\">\n",
       "      <th></th>\n",
       "      <th>date</th>\n",
       "      <th>home_team</th>\n",
       "      <th>away_team</th>\n",
       "      <th>home_score</th>\n",
       "      <th>away_score</th>\n",
       "      <th>tournament</th>\n",
       "      <th>total_score</th>\n",
       "    </tr>\n",
       "  </thead>\n",
       "  <tbody>\n",
       "    <tr>\n",
       "      <th>25164</th>\n",
       "      <td>2002-05-31</td>\n",
       "      <td>France</td>\n",
       "      <td>Senegal</td>\n",
       "      <td>0</td>\n",
       "      <td>1</td>\n",
       "      <td>FIFA World Cup</td>\n",
       "      <td>1</td>\n",
       "    </tr>\n",
       "    <tr>\n",
       "      <th>25165</th>\n",
       "      <td>2002-06-01</td>\n",
       "      <td>Germany</td>\n",
       "      <td>Saudi Arabia</td>\n",
       "      <td>8</td>\n",
       "      <td>0</td>\n",
       "      <td>FIFA World Cup</td>\n",
       "      <td>8</td>\n",
       "    </tr>\n",
       "    <tr>\n",
       "      <th>25166</th>\n",
       "      <td>2002-06-01</td>\n",
       "      <td>Republic of Ireland</td>\n",
       "      <td>Cameroon</td>\n",
       "      <td>1</td>\n",
       "      <td>1</td>\n",
       "      <td>FIFA World Cup</td>\n",
       "      <td>2</td>\n",
       "    </tr>\n",
       "    <tr>\n",
       "      <th>25167</th>\n",
       "      <td>2002-06-01</td>\n",
       "      <td>Uruguay</td>\n",
       "      <td>Denmark</td>\n",
       "      <td>1</td>\n",
       "      <td>2</td>\n",
       "      <td>FIFA World Cup</td>\n",
       "      <td>3</td>\n",
       "    </tr>\n",
       "    <tr>\n",
       "      <th>25168</th>\n",
       "      <td>2002-06-02</td>\n",
       "      <td>Argentina</td>\n",
       "      <td>Nigeria</td>\n",
       "      <td>1</td>\n",
       "      <td>0</td>\n",
       "      <td>FIFA World Cup</td>\n",
       "      <td>1</td>\n",
       "    </tr>\n",
       "    <tr>\n",
       "      <th>...</th>\n",
       "      <td>...</td>\n",
       "      <td>...</td>\n",
       "      <td>...</td>\n",
       "      <td>...</td>\n",
       "      <td>...</td>\n",
       "      <td>...</td>\n",
       "      <td>...</td>\n",
       "    </tr>\n",
       "    <tr>\n",
       "      <th>44343</th>\n",
       "      <td>2022-12-10</td>\n",
       "      <td>England</td>\n",
       "      <td>France</td>\n",
       "      <td>1</td>\n",
       "      <td>2</td>\n",
       "      <td>FIFA World Cup</td>\n",
       "      <td>3</td>\n",
       "    </tr>\n",
       "    <tr>\n",
       "      <th>44345</th>\n",
       "      <td>2022-12-13</td>\n",
       "      <td>Argentina</td>\n",
       "      <td>Croatia</td>\n",
       "      <td>3</td>\n",
       "      <td>0</td>\n",
       "      <td>FIFA World Cup</td>\n",
       "      <td>3</td>\n",
       "    </tr>\n",
       "    <tr>\n",
       "      <th>44346</th>\n",
       "      <td>2022-12-14</td>\n",
       "      <td>France</td>\n",
       "      <td>Morocco</td>\n",
       "      <td>2</td>\n",
       "      <td>0</td>\n",
       "      <td>FIFA World Cup</td>\n",
       "      <td>2</td>\n",
       "    </tr>\n",
       "    <tr>\n",
       "      <th>44350</th>\n",
       "      <td>2022-12-17</td>\n",
       "      <td>Croatia</td>\n",
       "      <td>Morocco</td>\n",
       "      <td>2</td>\n",
       "      <td>1</td>\n",
       "      <td>FIFA World Cup</td>\n",
       "      <td>3</td>\n",
       "    </tr>\n",
       "    <tr>\n",
       "      <th>44352</th>\n",
       "      <td>2022-12-18</td>\n",
       "      <td>Argentina</td>\n",
       "      <td>France</td>\n",
       "      <td>3</td>\n",
       "      <td>3</td>\n",
       "      <td>FIFA World Cup</td>\n",
       "      <td>6</td>\n",
       "    </tr>\n",
       "  </tbody>\n",
       "</table>\n",
       "<p>384 rows × 7 columns</p>\n",
       "</div>"
      ],
      "text/plain": [
       "            date            home_team     away_team  home_score  away_score  \\\n",
       "25164 2002-05-31               France       Senegal           0           1   \n",
       "25165 2002-06-01              Germany  Saudi Arabia           8           0   \n",
       "25166 2002-06-01  Republic of Ireland      Cameroon           1           1   \n",
       "25167 2002-06-01              Uruguay       Denmark           1           2   \n",
       "25168 2002-06-02            Argentina       Nigeria           1           0   \n",
       "...          ...                  ...           ...         ...         ...   \n",
       "44343 2022-12-10              England        France           1           2   \n",
       "44345 2022-12-13            Argentina       Croatia           3           0   \n",
       "44346 2022-12-14               France       Morocco           2           0   \n",
       "44350 2022-12-17              Croatia       Morocco           2           1   \n",
       "44352 2022-12-18            Argentina        France           3           3   \n",
       "\n",
       "           tournament  total_score  \n",
       "25164  FIFA World Cup            1  \n",
       "25165  FIFA World Cup            8  \n",
       "25166  FIFA World Cup            2  \n",
       "25167  FIFA World Cup            3  \n",
       "25168  FIFA World Cup            1  \n",
       "...               ...          ...  \n",
       "44343  FIFA World Cup            3  \n",
       "44345  FIFA World Cup            3  \n",
       "44346  FIFA World Cup            2  \n",
       "44350  FIFA World Cup            3  \n",
       "44352  FIFA World Cup            6  \n",
       "\n",
       "[384 rows x 7 columns]"
      ]
     },
     "execution_count": 9,
     "metadata": {},
     "output_type": "execute_result"
    }
   ],
   "source": [
    "# Filtering for FIFA World Cup matches after 2002-01-01\n",
    "# Convert the date column to the datetime data type by passing it to pd.to_datetime(), \n",
    "# or by using the parse_dates argument of pd.read_csv() when loading the data.\n",
    "\n",
    "men_world_cup = men_results[(men_results['tournament']=='FIFA World Cup') & (men_results['date']>'2002-01-01')]\n",
    "men_world_cup.loc[:, 'total_score']=men_world_cup['home_score']+ men_world_cup['away_score']\n",
    "men_world_cup"
   ]
  },
  {
   "cell_type": "code",
   "execution_count": 10,
   "id": "abf40200-6087-484b-894f-7965659f8d31",
   "metadata": {},
   "outputs": [
    {
     "name": "stderr",
     "output_type": "stream",
     "text": [
      "C:\\Users\\mohse\\AppData\\Local\\Temp\\ipykernel_18616\\2797015034.py:2: SettingWithCopyWarning: \n",
      "A value is trying to be set on a copy of a slice from a DataFrame.\n",
      "Try using .loc[row_indexer,col_indexer] = value instead\n",
      "\n",
      "See the caveats in the documentation: https://pandas.pydata.org/pandas-docs/stable/user_guide/indexing.html#returning-a-view-versus-a-copy\n",
      "  women_world_cup.loc[:, 'total_score']=women_world_cup['home_score']+ women_world_cup['away_score']\n"
     ]
    },
    {
     "data": {
      "text/html": [
       "<div>\n",
       "<style scoped>\n",
       "    .dataframe tbody tr th:only-of-type {\n",
       "        vertical-align: middle;\n",
       "    }\n",
       "\n",
       "    .dataframe tbody tr th {\n",
       "        vertical-align: top;\n",
       "    }\n",
       "\n",
       "    .dataframe thead th {\n",
       "        text-align: right;\n",
       "    }\n",
       "</style>\n",
       "<table border=\"1\" class=\"dataframe\">\n",
       "  <thead>\n",
       "    <tr style=\"text-align: right;\">\n",
       "      <th></th>\n",
       "      <th>date</th>\n",
       "      <th>home_team</th>\n",
       "      <th>away_team</th>\n",
       "      <th>home_score</th>\n",
       "      <th>away_score</th>\n",
       "      <th>tournament</th>\n",
       "      <th>total_score</th>\n",
       "    </tr>\n",
       "  </thead>\n",
       "  <tbody>\n",
       "    <tr>\n",
       "      <th>1600</th>\n",
       "      <td>2003-09-20</td>\n",
       "      <td>Nigeria</td>\n",
       "      <td>North Korea</td>\n",
       "      <td>0</td>\n",
       "      <td>3</td>\n",
       "      <td>FIFA World Cup</td>\n",
       "      <td>3</td>\n",
       "    </tr>\n",
       "    <tr>\n",
       "      <th>1601</th>\n",
       "      <td>2003-09-20</td>\n",
       "      <td>Norway</td>\n",
       "      <td>France</td>\n",
       "      <td>2</td>\n",
       "      <td>0</td>\n",
       "      <td>FIFA World Cup</td>\n",
       "      <td>2</td>\n",
       "    </tr>\n",
       "    <tr>\n",
       "      <th>1602</th>\n",
       "      <td>2003-09-20</td>\n",
       "      <td>Germany</td>\n",
       "      <td>Canada</td>\n",
       "      <td>4</td>\n",
       "      <td>1</td>\n",
       "      <td>FIFA World Cup</td>\n",
       "      <td>5</td>\n",
       "    </tr>\n",
       "    <tr>\n",
       "      <th>1603</th>\n",
       "      <td>2003-09-20</td>\n",
       "      <td>Japan</td>\n",
       "      <td>Argentina</td>\n",
       "      <td>6</td>\n",
       "      <td>0</td>\n",
       "      <td>FIFA World Cup</td>\n",
       "      <td>6</td>\n",
       "    </tr>\n",
       "    <tr>\n",
       "      <th>1604</th>\n",
       "      <td>2003-09-21</td>\n",
       "      <td>United States</td>\n",
       "      <td>Sweden</td>\n",
       "      <td>3</td>\n",
       "      <td>1</td>\n",
       "      <td>FIFA World Cup</td>\n",
       "      <td>4</td>\n",
       "    </tr>\n",
       "    <tr>\n",
       "      <th>...</th>\n",
       "      <td>...</td>\n",
       "      <td>...</td>\n",
       "      <td>...</td>\n",
       "      <td>...</td>\n",
       "      <td>...</td>\n",
       "      <td>...</td>\n",
       "      <td>...</td>\n",
       "    </tr>\n",
       "    <tr>\n",
       "      <th>4465</th>\n",
       "      <td>2019-06-29</td>\n",
       "      <td>Germany</td>\n",
       "      <td>Sweden</td>\n",
       "      <td>1</td>\n",
       "      <td>2</td>\n",
       "      <td>FIFA World Cup</td>\n",
       "      <td>3</td>\n",
       "    </tr>\n",
       "    <tr>\n",
       "      <th>4466</th>\n",
       "      <td>2019-07-02</td>\n",
       "      <td>England</td>\n",
       "      <td>United States</td>\n",
       "      <td>1</td>\n",
       "      <td>2</td>\n",
       "      <td>FIFA World Cup</td>\n",
       "      <td>3</td>\n",
       "    </tr>\n",
       "    <tr>\n",
       "      <th>4467</th>\n",
       "      <td>2019-07-03</td>\n",
       "      <td>Netherlands</td>\n",
       "      <td>Sweden</td>\n",
       "      <td>1</td>\n",
       "      <td>0</td>\n",
       "      <td>FIFA World Cup</td>\n",
       "      <td>1</td>\n",
       "    </tr>\n",
       "    <tr>\n",
       "      <th>4468</th>\n",
       "      <td>2019-07-06</td>\n",
       "      <td>England</td>\n",
       "      <td>Sweden</td>\n",
       "      <td>1</td>\n",
       "      <td>2</td>\n",
       "      <td>FIFA World Cup</td>\n",
       "      <td>3</td>\n",
       "    </tr>\n",
       "    <tr>\n",
       "      <th>4469</th>\n",
       "      <td>2019-07-07</td>\n",
       "      <td>United States</td>\n",
       "      <td>Netherlands</td>\n",
       "      <td>2</td>\n",
       "      <td>0</td>\n",
       "      <td>FIFA World Cup</td>\n",
       "      <td>2</td>\n",
       "    </tr>\n",
       "  </tbody>\n",
       "</table>\n",
       "<p>200 rows × 7 columns</p>\n",
       "</div>"
      ],
      "text/plain": [
       "           date      home_team      away_team  home_score  away_score  \\\n",
       "1600 2003-09-20        Nigeria    North Korea           0           3   \n",
       "1601 2003-09-20         Norway         France           2           0   \n",
       "1602 2003-09-20        Germany         Canada           4           1   \n",
       "1603 2003-09-20          Japan      Argentina           6           0   \n",
       "1604 2003-09-21  United States         Sweden           3           1   \n",
       "...         ...            ...            ...         ...         ...   \n",
       "4465 2019-06-29        Germany         Sweden           1           2   \n",
       "4466 2019-07-02        England  United States           1           2   \n",
       "4467 2019-07-03    Netherlands         Sweden           1           0   \n",
       "4468 2019-07-06        England         Sweden           1           2   \n",
       "4469 2019-07-07  United States    Netherlands           2           0   \n",
       "\n",
       "          tournament  total_score  \n",
       "1600  FIFA World Cup            3  \n",
       "1601  FIFA World Cup            2  \n",
       "1602  FIFA World Cup            5  \n",
       "1603  FIFA World Cup            6  \n",
       "1604  FIFA World Cup            4  \n",
       "...              ...          ...  \n",
       "4465  FIFA World Cup            3  \n",
       "4466  FIFA World Cup            3  \n",
       "4467  FIFA World Cup            1  \n",
       "4468  FIFA World Cup            3  \n",
       "4469  FIFA World Cup            2  \n",
       "\n",
       "[200 rows x 7 columns]"
      ]
     },
     "execution_count": 10,
     "metadata": {},
     "output_type": "execute_result"
    }
   ],
   "source": [
    "women_world_cup = women_results[(women_results['tournament']=='FIFA World Cup') & (women_results['date']>'2002-01-01')]\n",
    "women_world_cup.loc[:, 'total_score']=women_world_cup['home_score']+ women_world_cup['away_score']\n",
    "women_world_cup"
   ]
  },
  {
   "cell_type": "code",
   "execution_count": 11,
   "id": "566806e8-e570-45fb-b604-cdc797de282f",
   "metadata": {},
   "outputs": [
    {
     "name": "stdout",
     "output_type": "stream",
     "text": [
      "2.5130208333333335\n",
      "2.98\n"
     ]
    }
   ],
   "source": [
    "# Choosing the correct hypothesis test\n",
    "print(men_world_cup['total_score'].mean())\n",
    "print(women_world_cup['total_score'].mean())"
   ]
  },
  {
   "cell_type": "markdown",
   "id": "bd7269bb-ef50-4b1a-9ece-6ef27eceeef6",
   "metadata": {},
   "source": [
    "Because there are two independent groups, men's and women's, this scenario requires an unpaired two-sample test.\n",
    "An unpaired t-test and a Wilcoxon-Mann-Whitney test are the two most commmon two-sample tests, where the Wilcoxon-Mann-Whitney test is a non-parametric version of the unpaired t-test.\n",
    "To determine if a parametric or non-parametric test is appropriate, you'll need to verify the underlying assumptions of parametric tests, including checking the sample size in each group and the normality of each distribution."
   ]
  },
  {
   "cell_type": "code",
   "execution_count": 12,
   "id": "ba25b1ed-9434-4541-8bca-b62b295138ff",
   "metadata": {},
   "outputs": [
    {
     "name": "stdout",
     "output_type": "stream",
     "text": [
      "Sample size of data1: 200\n",
      "Sample size of data2: 384\n"
     ]
    }
   ],
   "source": [
    "# For t-tests and ANOVA: A minimum of 30 samples per group is often considered sufficient.\n",
    "\n",
    "sample_size_data1 = len(women_world_cup)\n",
    "sample_size_data2 = len(men_world_cup)\n",
    "\n",
    "print(f\"Sample size of data1: {sample_size_data1}\")\n",
    "print(f\"Sample size of data2: {sample_size_data2}\")"
   ]
  },
  {
   "cell_type": "code",
   "execution_count": 13,
   "id": "6fd3f21f-1710-43de-9f54-d2962618550b",
   "metadata": {},
   "outputs": [
    {
     "data": {
      "image/png": "[encoded data removed]",
      "text/plain": [
       "<Figure size 640x480 with 1 Axes>"
      ]
     },
     "metadata": {},
     "output_type": "display_data"
    }
   ],
   "source": [
    "# For normality, you can use visual inspection with a histogram\n",
    "\n",
    "sns.histplot(x='total_score', data=women_world_cup, bins=10, color='skyblue', label='Women')\n",
    "sns.histplot(x='total_score', data=men_world_cup, bins=10, color='salmon', label='Men')\n",
    "\n",
    "plt.title('Comparison of Total Score Distribution')\n",
    "plt.xlabel('Total Score')\n",
    "plt.ylabel('Frequency')\n",
    "plt.legend()  # Display legend with labels\n",
    "\n",
    "plt.show()"
   ]
  },
  {
   "cell_type": "markdown",
   "id": "6750828d-0741-4326-80ee-1d9cbe712243",
   "metadata": {},
   "source": [
    "The normal distribution is a symmetric bell-shaped curve, with the distribution centered around the mean.\n",
    "Plotting a histogram displaying the distribution of the number of goals scored in men's and women's matches will give you an idea about whether the dataset is normally distributed or not.\n",
    "If the normality is unclear from the plot, you can run a test of normality, such as a Kolmogorov–Smirnov test or the Shapiro–Wilk test."
   ]
  },
  {
   "cell_type": "code",
   "execution_count": 14,
   "id": "a1214c48-0806-47a1-93e5-8872fc76b081",
   "metadata": {},
   "outputs": [
    {
     "name": "stdout",
     "output_type": "stream",
     "text": [
      "KS Statistic_women: 0.8113447460685429\n",
      "P-value_women: 9.431656241073112e-144\n",
      "The sample may not be from a normal distribution.\n",
      "-----------------------------------------------------------\n",
      "KS Statistic_men: 0.7580114127352096\n",
      "P-value_men: 4.802304083566529e-230\n",
      "The sample may not be from a normal distribution.\n"
     ]
    }
   ],
   "source": [
    "from scipy.stats import kstest, norm\n",
    "import numpy as np\n",
    "\n",
    "# Perform Kolmogorov-Smirnov test against a normal distribution\n",
    "ks_statistic_women, ks_p_value_women = kstest(women_world_cup['total_score'], 'norm')\n",
    "ks_statistic_men, ks_p_value_men = kstest(men_world_cup['total_score'], 'norm')\n",
    "\n",
    "# Define significance level (e.g., 0.05)\n",
    "alpha = 0.05\n",
    "\n",
    "# Print the results for women\n",
    "print(f\"KS Statistic_women: {ks_statistic_women}\")\n",
    "print(f\"P-value_women: {ks_p_value_women}\")\n",
    "\n",
    "# Interpret the results for women\n",
    "if ks_p_value_women < alpha:\n",
    "    print(\"The sample may not be from a normal distribution.\")\n",
    "else:\n",
    "    print(\"The sample appears to be from a normal distribution.\")\n",
    "\n",
    "print(\"-----------------------------------------------------------\")\n",
    "\n",
    "# Print the results for men\n",
    "print(f\"KS Statistic_men: {ks_statistic_men}\")\n",
    "print(f\"P-value_men: {ks_p_value_men}\")\n",
    "\n",
    "# Interpret the results for women\n",
    "if ks_p_value_women < alpha:\n",
    "    print(\"The sample may not be from a normal distribution.\")\n",
    "else:\n",
    "    print(\"The sample appears to be from a normal distribution.\")"
   ]
  },
  {
   "cell_type": "code",
   "execution_count": 15,
   "id": "55fd3bec-38d8-406f-b474-0f938991465a",
   "metadata": {},
   "outputs": [
    {
     "name": "stdout",
     "output_type": "stream",
     "text": [
      "t_test: 2.812822759620731  -  p_value: 0.0025980724004871503\n"
     ]
    }
   ],
   "source": [
    "# We can't use this test, because our dataset is not normally distributed based on Kolmogorov–Smirnov test but  we use it just ...\n",
    "# to display how ttest works in similar situation\n",
    "\n",
    "from scipy.stats import ttest_ind\n",
    "\n",
    "t_stat, p_value = ttest_ind(women_world_cup['total_score'], men_world_cup['total_score'], equal_var=False, alternative='greater')\n",
    "print(f\"t_test: {t_stat}\", \" - \", f\"p_value: {p_value}\")"
   ]
  },
  {
   "cell_type": "code",
   "execution_count": 16,
   "id": "bfa97107-67e7-44e4-acbd-a6e1e3862032",
   "metadata": {},
   "outputs": [
    {
     "name": "stdout",
     "output_type": "stream",
     "text": [
      "Mann-Whitney U Statistic: 43273.0\n",
      "P-value: 0.005106609825443641\n",
      "Reject the null hypothesis. There is evidence that women total goals is greater than men total goals scored.\n"
     ]
    }
   ],
   "source": [
    "# Performing the hypothesis test using scipy package\n",
    "\n",
    "from scipy.stats import mannwhitneyu\n",
    "\n",
    "# Perform Mann-Whitney U test\n",
    "statistic, p_value = mannwhitneyu(women_world_cup['total_score'], men_world_cup['total_score'], alternative='greater')  # Set alternative to 'greater'\n",
    "\n",
    "# Define significance level (alpha)\n",
    "alpha = 0.10  # 10 percent\n",
    "\n",
    "# Print the results\n",
    "print(f\"Mann-Whitney U Statistic: {statistic}\")\n",
    "print(f\"P-value: {p_value}\")\n",
    "\n",
    "# Interpret the results\n",
    "if p_value < alpha:\n",
    "    print(\"Reject the null hypothesis. There is evidence that women total goals is greater than men total goals scored.\")\n",
    "else:\n",
    "    print(\"Fail to reject the null hypothesis. There is no evidence that women total goals is greater than men total goals scored\")\n"
   ]
  },
  {
   "cell_type": "code",
   "execution_count": 17,
   "id": "dfa2c07a-ab92-4664-bbdb-116dd7779ef3",
   "metadata": {},
   "outputs": [
    {
     "name": "stdout",
     "output_type": "stream",
     "text": [
      "       U-val alternative     p-val       RBC      CLES\n",
      "MWU  43273.0     greater  0.005107 -0.126901  0.563451\n"
     ]
    }
   ],
   "source": [
    "# Performing the hypothesis test using pingouin package\n",
    "\n",
    "import pingouin as pg\n",
    "\n",
    "# Perform Mann-Whitney U test\n",
    "result_pg = pg.mwu(women_world_cup['total_score'], men_world_cup['total_score'], alternative='greater')  # Set tail to 'greater' for a right-tailed test\n",
    "\n",
    "# Print the results\n",
    "print(result_pg)"
   ]
  },
  {
   "cell_type": "code",
   "execution_count": 18,
   "id": "9f69e353-1eb4-4cb6-8de6-0e721fad57cf",
   "metadata": {},
   "outputs": [
    {
     "name": "stdout",
     "output_type": "stream",
     "text": [
      "{'p_val': 0.005106609825443641, 'result': 'reject'}\n"
     ]
    }
   ],
   "source": [
    "# Interpreting the result of the hypothesis test (from pingouin package)\n",
    "\n",
    "# Extract p-value as a float\n",
    "p_val = result_pg[\"p-val\"].values[0]\n",
    "\n",
    "# Determine hypothesis test result using sig. level\n",
    "if p_val <= 0.01:\n",
    "    result = \"reject\"\n",
    "else:\n",
    "    result = \"fail to reject\"\n",
    "\n",
    "result_dict = {\"p_val\": p_val, \"result\": result}\n",
    "\n",
    "print(result_dict)"
   ]
  },
  {
   "cell_type": "markdown",
   "id": "25720b71-4e9a-46bc-965f-c0330c782549",
   "metadata": {},
   "source": [
    "# ALternative Solution"
   ]
  },
  {
   "cell_type": "code",
   "execution_count": 19,
   "id": "3e542a1c-9cba-47d0-a5d4-1a911d531f56",
   "metadata": {},
   "outputs": [
    {
     "data": {
      "image/png": "[encoded data removed]",
      "text/plain": [
       "<Figure size 640x480 with 1 Axes>"
      ]
     },
     "metadata": {},
     "output_type": "display_data"
    },
    {
     "data": {
      "image/png": "[encoded data removed]",
      "text/plain": [
       "<Figure size 640x480 with 1 Axes>"
      ]
     },
     "metadata": {},
     "output_type": "display_data"
    },
    {
     "name": "stdout",
     "output_type": "stream",
     "text": [
      "{'p_val': 0.005106609825443641, 'result': 'reject'}\n"
     ]
    },
    {
     "data": {
      "text/plain": [
       "<Figure size 640x480 with 0 Axes>"
      ]
     },
     "metadata": {},
     "output_type": "display_data"
    }
   ],
   "source": [
    "# Imports\n",
    "import pandas as pd\n",
    "import matplotlib.pyplot as plt\n",
    "import pingouin\n",
    "from scipy.stats import mannwhitneyu\n",
    "\n",
    "# Load men's and women's datasets\n",
    "men = pd.read_csv(\"men_results.csv\")\n",
    "women = pd.read_csv(\"women_results.csv\")\n",
    "\n",
    "# Filter the data for the time range and tournament\n",
    "men[\"date\"] = pd.to_datetime(men[\"date\"])\n",
    "men_subset = men[(men[\"date\"] > \"2002-01-01\") & (men[\"tournament\"].isin([\"FIFA World Cup\"]))]\n",
    "women[\"date\"] = pd.to_datetime(women[\"date\"])\n",
    "women_subset = women[(women[\"date\"] > \"2002-01-01\") & (women[\"tournament\"].isin([\"FIFA World Cup\"]))]\n",
    "\n",
    "# Create group and goals_scored columns\n",
    "men_subset = men_subset.copy()\n",
    "women_subset = women_subset.copy()\n",
    "\n",
    "men_subset[\"group\"] = \"men\"\n",
    "women_subset[\"group\"] = \"women\"\n",
    "men_subset[\"goals_scored\"] = men_subset[\"home_score\"] + men_subset[\"away_score\"]\n",
    "women_subset[\"goals_scored\"] = women_subset[\"home_score\"] + women_subset[\"away_score\"]\n",
    "\n",
    "# Determine normality using histograms\n",
    "men_subset[\"goals_scored\"].hist()\n",
    "plt.show()\n",
    "plt.clf()\n",
    "\n",
    "# Goals scored is not normally distributed, so use Wilcoxon-Mann-Whitney test of two groups\n",
    "men_subset[\"goals_scored\"].hist()\n",
    "plt.show()\n",
    "plt.clf()\n",
    "\n",
    "# Combine women's and men's data and calculate goals scored in each match\n",
    "both = pd.concat([women_subset, men_subset], axis=0, ignore_index=True)\n",
    "\n",
    "# Transform the data for the pingouin Mann-Whitney U t-test/Wilcoxon-Mann-Whitney test\n",
    "both_subset = both[[\"goals_scored\", \"group\"]]\n",
    "both_subset_wide = both_subset.pivot(columns=\"group\", values=\"goals_scored\")\n",
    "\n",
    "# Perform right-tailed Wilcoxon-Mann-Whitney test with pingouin\n",
    "results_pg = pingouin.mwu(x=both_subset_wide[\"women\"],\n",
    "                          y=both_subset_wide[\"men\"],\n",
    "                          alternative=\"greater\")\n",
    "\n",
    "# Alternative SciPy solution: Perform right-tailed Wilcoxon-Mann-Whitney test with scipy\n",
    "results_scipy = mannwhitneyu(x=women_subset[\"goals_scored\"],\n",
    "                             y=men_subset[\"goals_scored\"],\n",
    "                             alternative=\"greater\")\n",
    "\n",
    "# Extract p-value as a float\n",
    "p_val = results_pg[\"p-val\"].values[0]\n",
    "\n",
    "# Determine hypothesis test result using sig. level\n",
    "if p_val <= 0.01:\n",
    "    result = \"reject\"\n",
    "else:\n",
    "    result = \"fail to reject\"\n",
    "\n",
    "result_dict = {\"p_val\": p_val, \"result\": result}\n",
    "print(result_dict)"
   ]
  },
  {
   "cell_type": "code",
   "execution_count": null,
   "id": "8cba3136-1140-40f1-bb68-8f1b4e6b9185",
   "metadata": {},
   "outputs": [],
   "source": []
  }
 ],
 "metadata": {
  "kernelspec": {
   "display_name": "Python 3 (ipykernel)",
   "language": "python",
   "name": "python3"
  },
  "language_info": {
   "codemirror_mode": {
    "name": "ipython",
    "version": 3
   },
   "file_extension": ".py",
   "mimetype": "text/x-python",
   "name": "python",
   "nbconvert_exporter": "python",
   "pygments_lexer": "ipython3",
   "version": "3.10.10"
  }
 },
 "nbformat": 4,
 "nbformat_minor": 5
}
